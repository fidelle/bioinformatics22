{
 "cells": [
  {
   "cell_type": "markdown",
   "id": "0a192e06-c964-4409-879f-d1d55d68f09e",
   "metadata": {},
   "source": [
    "## TASK 1"
   ]
  },
  {
   "cell_type": "code",
   "execution_count": 5,
   "id": "b3aa8157-4fd4-4f89-8efe-6d692b0caaec",
   "metadata": {},
   "outputs": [
    {
     "name": "stdout",
     "output_type": "stream",
     "text": [
      "{'gi|21071042|ref|NM_000193.2| Homo sapiens sonic hedgehog (SHH), mRNA': 'GCGAGGCAGCCAGCGAGGGAGAGAGCGAGCGGGCGAGCCGGAGCGAGGAAGGGAAAGCGCAAGAGAGAGCGCACACGCACACACCCGCCGCGCGCACTCGCGCACGGACCCGCACGGGGACAGCTCGGAAGTCATCAGTTCCATGGGCGAGATGCTGCTGCTGGCGAGATGTCTGCTGCTAGTCCTCGTCTCCTCGCTGCTGGTATGCTCGGGACTGGCGTGCGGACCGGGCAGGGGGTTCGGGAAGAGGAGGCACCCCAAAAAGCTGACCCCTTTAGCCTACAAGCAGTTTATCCCCAATGTGGCCGAGAAGACCCTAGGCGCCAGCGGAAGGTATGAAGGGAAGATCTCCAGAAACTCCGAGCGATTTAAGGAACTCACCCCCAATTACAACCCCGACATCATATTTAAGGATGAAGAAAACACCGGAGCGGACAGGCTGATGACTCAGAGGTGTAAGGACAAGTTGAACGCTTTGGCCATCTCGGTGATGAACCAGTGGCCAGGAGTGAAACTGCGGGTGACCGAGGGCTGGGACGAAGATGGCCACCACTCAGAGGAGTCTCTGCACTACGAGGGCCGCGCAGTGGACATCACCACGTCTGACCGCGACCGCAGCAAGTACGGCATGCTGGCCCGCCTGGCGGTGGAGGCCGGCTTCGACTGGGTGTACTACGAGTCCAAGGCACATATCCACTGCTCGGTGAAAGCAGAGAACTCGGTGGCGGCCAAATCGGGAGGCTGCTTCCCGGGCTCGGCCACGGTGCACCTGGAGCAGGGCGGCACCAAGCTGGTGAAGGACCTGAGCCCCGGGGACCGCGTGCTGGCGGCGGACGACCAGGGCCGGCTGCTCTACAGCGACTTCCTCACTTTCCTGGACCGCGACGACGGCGCCAAGAAGGTCTTCTACGTGATCGAGACGCGGGAGCCGCGCGAGCGCCTGCTGCTCACCGCCGCGCACCTGCTCTTTGTGGCGCCGCACAACGACTCGGCCACCGGGGAGCCCGAGGCGTCCTCGGGCTCGGGGCCGCCTTCCGGGGGCGCACTGGGGCCTCGGGCGCTGTTCGCCAGCCGCGTGCGCCCGGGCCAGCGCGTGTACGTGGTGGCCGAGCGTGACGGGGACCGCCGGCTCCTGCCCGCCGCTGTGCACAGCGTGACCCTAAGCGAGGAGGCCGCGGGCGCCTACGCGCCGCTCACGGCCCAGGGCACCATTCTCATCAACCGGGTGCTGGCCTCGTGCTACGCGGTCATCGAGGAGCACAGCTGGGCGCACCGGGCCTTCGCGCCCTTCCGCCTGGCGCACGCGCTCCTGGCTGCACTGGCGCCCGCGCGCACGGACCGCGGCGGGGACAGCGGCGGCGGGGACCGCGGGGGCGGCGGCGGCAGAGTAGCCCTAACCGCTCCAGGTGCTGCCGACGCTCCGGGTGCGGGGGCCACCGCGGGCATCCACTGGTACTCGCAGCTGCTCTACCAAATAGGCACCTGGCTCCTGGACAGCGAGGCCCTGCACCCGCTGGGCATGGCGGTCAAGTCCAGCTGAAGCCGGGGGGCCGGGGGAGGGGCGCGGGAGGGGGCG'}\n"
     ]
    }
   ],
   "source": [
    "#read a single SHH.fa file into a dictionary object and print out the dictionary\n",
    "filehandle=open('SHH.fa','r')\n",
    "fasta = {}\n",
    "seq=''\n",
    "for line in filehandle:\n",
    "    line = line.rstrip(\"\\n\") #rstrip removes trailine \\n\n",
    "    if not line:#line is empty\n",
    "        continue\n",
    "    if line.startswith(\">\"):\n",
    "        seq_name = line[1:]#gets first line without \\n\n",
    "        fasta[seq_name] = ['']\n",
    "        continue\n",
    "    seq= seq+line\n",
    "    #fasta[seq_name][-1] += sequence #sets as last element value \n",
    "seqdict={seq_name:seq}\n",
    "print(seqdict)"
   ]
  },
  {
   "cell_type": "markdown",
   "id": "cbb7fb90-25d9-4928-af1a-a10f6bcc7c1b",
   "metadata": {},
   "source": [
    "## TASK 2"
   ]
  },
  {
   "cell_type": "code",
   "execution_count": null,
   "id": "500e826e-9edc-4218-8b16-93bac24aa754",
   "metadata": {},
   "outputs": [],
   "source": [
    "'''Translate a single gene FASTA file (SHH.fa) and print in FASTA format\n",
    "– Use codon_table.txt'''\n",
    "\n"
   ]
  },
  {
   "cell_type": "code",
   "execution_count": 9,
   "id": "e251daaf-e00f-46d8-a335-a06dab14fb85",
   "metadata": {},
   "outputs": [],
   "source": [
    "def translation(codonfile,sequencefile):\n",
    "    codons_list = codonfile.readlines()\n",
    "    #codon pairs\n",
    "    codonpairs={}\n",
    "    for count in range(0,len(codons_list)):\n",
    "        cols=codons_list[count].rstrip().split(\"\\t\")\n",
    "        codonpairs[cols[0]]=cols[1]\n",
    "    #sequence extraction\n",
    "    seq=''\n",
    "    for line in sequencefile:\n",
    "        line = line.rstrip(\"\\n\") #rstrip removes trailine \\n\n",
    "        if not line:#line is empty\n",
    "            continue\n",
    "        if line.startswith(\">\"):\n",
    "            seq_name = line#[1:]#gets first line without \\n\n",
    "            #fasta[seq_name] = ['']\n",
    "            continue\n",
    "        seq= seq+line\n",
    "        #fasta[seq_name][-1] += sequence #sets as last element value \n",
    "    #sequence to protein\n",
    "    protein=''\n",
    "\n",
    "    for i in range(0,len(seq),3):\n",
    "        codon=seq[i:i+3]\n",
    "        if codon in codonpairs:\n",
    "            protein+=codonpairs[codon]\n",
    "        \n",
    "#     fastafile=open('output.txt','w')\n",
    "#     fastafile.write\n",
    "    return (seq_name,protein)\n",
    "\n",
    "\n",
    "f2gene=open('SHH.fa','r')\n",
    "f2cod=open('codon_table.txt','r')\n",
    "\n",
    "res=translation(f2cod,f2gene)\n",
    "res[0]\n",
    "fastafile=open('output.sh','w')\n",
    "fastafile.write(res[0]+'\\n'+res[1])\n",
    "#fastafile.write(res[1])\n",
    "\n",
    "fastafile.close()"
   ]
  },
  {
   "cell_type": "markdown",
   "id": "506b6f44-9c53-42e2-8739-8c83bceffd6c",
   "metadata": {},
   "source": [
    "## Task 3"
   ]
  },
  {
   "cell_type": "code",
   "execution_count": 11,
   "id": "769fd865-4019-429f-9356-4ca512ad27e6",
   "metadata": {},
   "outputs": [],
   "source": [
    "filehandle=open('genes.fa','r')\n",
    "fasta = {}\n",
    "genseq=''\n",
    "for line in filehandle:\n",
    "    line = line.rstrip(\"\\n\") #rstrip removes trailine \\n\n",
    "    if not line:#line is empty\n",
    "        continue\n",
    "    if line.startswith(\">\"):\n",
    "        name = line[1:]#gets first line without \\n\n",
    "        if name in fasta:\n",
    "            fasta[name].append('')\n",
    "        else:\n",
    "            fasta[name] = ['']\n",
    "            genseq=''\n",
    "        continue\n",
    "    genseq = genseq+line\n",
    "    #print(fasta[name][-1])\n",
    "    fasta[name]= genseq #sets as last element value \n",
    "def translation(codonfile,multigenes_fasta):\n",
    "    fastafile=open('outputmulti.sh','w')\n",
    "\n",
    "    codons_list = codonfile.readlines()\n",
    "    #codon pairs\n",
    "    codonpairs={}\n",
    "    for count in range(0,len(codons_list)):\n",
    "        cols=codons_list[count].rstrip().split(\"\\t\")\n",
    "        codonpairs[cols[0]]=cols[1]\n",
    "        \n",
    "    for k,v in multigenes_fasta.items():\n",
    "        seq_name=\">\"+k\n",
    "        seq=v\n",
    "        protein=''\n",
    "\n",
    "        for i in range(0,len(seq),3):\n",
    "            codon=seq[i:i+3]\n",
    "            if codon in codonpairs:\n",
    "                protein+=codonpairs[codon]\n",
    "        \n",
    "        fastafile.write(seq_name+'\\n'+protein+ '\\n')\n",
    "\n",
    "    fastafile.close()\n",
    "    return \n",
    "\n",
    "f2cod=open('codon_table.txt','r')\n",
    "\n",
    "translation(f2cod,fasta)\n"
   ]
  },
  {
   "cell_type": "markdown",
   "id": "9d5c0e7d-200d-4ed7-8d4b-e36326f0bec7",
   "metadata": {},
   "source": [
    "## Task 4"
   ]
  },
  {
   "cell_type": "code",
   "execution_count": 14,
   "id": "1db87bb9-e9e6-4575-b6e7-7d6012fa7aa1",
   "metadata": {},
   "outputs": [
    {
     "name": "stdout",
     "output_type": "stream",
     "text": [
      "fix this\n",
      "fix this\n",
      "fix this\n",
      "fix this\n",
      "fix this\n",
      "fix this\n",
      "fix this\n",
      "fix this\n",
      "fix this\n",
      "fix this\n",
      "fix this\n",
      "fix this\n",
      "fix this\n"
     ]
    }
   ],
   "source": [
    "messy=open('messy.fa','r')\n",
    "fasta = {}\n",
    "genseq=''\n",
    "for line in messy:\n",
    "    line = line.rstrip(\"\\n\") #rstrip removes trailine \\n\n",
    "    if not line:#line is empty\n",
    "        continue\n",
    "    if line.startswith(\">\"):\n",
    "        name = line[1:]#gets first line without \\n\n",
    "        if name in fasta:\n",
    "            fasta[name].append('')\n",
    "        else:\n",
    "            fasta[name] = ['']\n",
    "            genseq=''\n",
    "        continue\n",
    "    genseq = genseq+line\n",
    "    #print(fasta[name][-1])\n",
    "    fasta[name]= genseq #sets as last element value \n",
    "\n",
    "\n",
    "hardcodonfile=open('codon_table_hard.txt','r')\n",
    "codons_list = hardcodonfile.readlines()\n",
    "codonpairs={}\n",
    "\n",
    "for count in range(0,len(codons_list)):\n",
    "    cols=codons_list[count].rstrip().split(\"\\t\")\n",
    "    colscodons=cols[2].split(',')\n",
    "    for i in colscodons:\n",
    "        codonpairs[i]=cols[1]\n",
    "fastafile=open('outputmessy.sh','w')\n",
    "\n",
    "for k,v in fasta.items():\n",
    "        seq_name=\">\"+k\n",
    "        seq=v\n",
    "        protein=''\n",
    "\n",
    "        for i in range(0,len(seq),3):\n",
    "            codon=seq[i:i+3]\n",
    "            if 'X' in codon:\n",
    "                print('fix this')\n",
    "                #sys.stderr.write('Invalid: '+ codon)\n",
    "            if codon in codonpairs:\n",
    "                 protein+=codonpairs[codon]\n",
    "        fastafile.write(seq_name+'\\n'+protein+ '\\n')\n",
    "\n",
    "fastafile.close()\n",
    "\n"
   ]
  },
  {
   "cell_type": "code",
   "execution_count": 16,
   "id": "1608d0e5-5239-46c7-988c-d1a7a11c40a0",
   "metadata": {},
   "outputs": [
    {
     "data": {
      "text/plain": [
       "'DWGFPLPCAQDWR*KF*ASQKSRATVQGAGSCWAPGTLCVRAGSVLSTTVTRFPGLARLPSGSLPWRSRSQILASSPL*VRKHFQTYGNYFLKTTFCPPCRPKQWMI*CCPRTILNNGSLKTQVQMKLPECQRLLPPWPLHQQLLHRRPLHQPPPGPCHLLSLPRKPTRAATVSVWASCILGQPSL*LARTPLPSRCFANWPRPALCSCGLIPHPRPAPASAPWPSTSSHST*RRL*GAAPTMSAAQIAMVWPLLSILSEWKEICVWSIWMTETLFDIVWWCPMSRLRLALTVPPSTTTTCVTVPAWAA*TGGPSSPSSHWKTPVVIYWDGTALRCVFVPVLGETGAQRKRISARKGSLTTSCPQGALSEHCPTTPAPLPSRRNHWMENISPFRSVGVSASRCSES*MRPWNSRMPRLGRSQGGAGLTPAT*SPKRVSLPPAIKNSCSRQKGLTQTDILHFLFPTDSLPPPSLPPLPFWVLGL*TLACNRCASEAPRTSICFVPGLH*TSWPALVFCCGEEDGE*DIPA*ILRFLL*GMFGRCKKSCS*GLVYNQPHSR*GPTSPY*PGKLSLTVEFSLTSRPISVKCWHLHLPHRVHCEG**NNVHLALKPPFITWGLELDPLEGACSLSLLVGGLVVSTVGQLVR*RELSSLCWPSQTLSDNLLVNLST*KEISPHPTPWRISLVYDDLDPPRLVLCSGSISFFFFFFFLFL*DWVSLCCPGWSGVA*SWLTAAFASPARAVLPQPPE*LGPQVHATMASQLLHVL*RWGLTVPRLVSNSWAQAIHLSQPPRVLGLQL*ATTSSWKGQHLLHSASTSAFSPHPSPPSPFLYPIFISISYFTIKLCCHLCV*GV'"
      ]
     },
     "execution_count": 16,
     "metadata": {},
     "output_type": "execute_result"
    }
   ],
   "source": []
  },
  {
   "cell_type": "code",
   "execution_count": null,
   "id": "bb5c1bb8-acfb-49d7-baf3-fb051f206f7d",
   "metadata": {},
   "outputs": [],
   "source": []
  }
 ],
 "metadata": {
  "kernelspec": {
   "display_name": "sc",
   "language": "python",
   "name": "sc"
  },
  "language_info": {
   "codemirror_mode": {
    "name": "ipython",
    "version": 3
   },
   "file_extension": ".py",
   "mimetype": "text/x-python",
   "name": "python",
   "nbconvert_exporter": "python",
   "pygments_lexer": "ipython3",
   "version": "3.9.5"
  }
 },
 "nbformat": 4,
 "nbformat_minor": 5
}
